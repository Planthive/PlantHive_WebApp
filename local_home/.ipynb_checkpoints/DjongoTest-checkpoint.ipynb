{
 "cells": [
  {
   "cell_type": "code",
   "execution_count": 9,
   "metadata": {},
   "outputs": [
    {
     "name": "stdout",
     "output_type": "stream",
     "text": [
      "{'actuators': {'led': {'white': {'channel': 10, 'ispresent': 1, 'wavelength': 4500, 'current': -1, 'state': 1, 'value': 75}, 'blue': {'channel': 12, 'ispresent': 1, 'wavelength': 420, 'current': -1, 'state': 1, 'value': 75}, 'green': {'channel': 11, 'ispresent': 1, 'wavelength': 510, 'current': -1, 'state': 1, 'value': 75}, 'red1': {'channel': 13, 'ispresent': 1, 'wavelength': 650, 'current': -1, 'state': 1, 'value': 75}, 'red2': {'channel': 14, 'ispresent': 1, 'wavelength': 650, 'current': -1, 'state': 1, 'value': 75}, 'farred': {'channel': 15, 'ispresent': 1, 'wavelength': 720, 'current': -1, 'state': 1, 'value': 75}}, 'ventilatorfans': {'front': {'channel': 7, 'ispresent': 1, 'current': -1, 'state': 1, 'value': 100, 'period_on': 50, 'period_off': 100}, 'back': {'channel': 8, 'ispresent': 1, 'current': -1, 'state': 1, 'value': 100, 'period_on': 50, 'period_off': 100}, 'led': {'channel': 9, 'ispresent': 1, 'current': -1, 'state': 1, 'value': 100, 'period_on': 50, 'period_off': 100}}, 'airpump': {'channel': -1, 'ispresent': 1, 'current': -1, 'state': 1, 'value': 100, 'period_on': 50, 'period_off': 100}, 'humidifier': {'channel': -1, 'ispresent': 1, 'current': -1, 'state': 1, 'value': 100, 'period_on': 50, 'period_off': 100}, 'peltier': {'channel': -1, 'ispresent': 1, 'current': -1, 'state': 1, 'value': 100, 'period_on': 50, 'period_off': 100}, 'peltierfan': {'channel': -1, 'ispresent': 1, 'current': -1, 'state': 1, 'value': 100, 'period_on': 50, 'period_off': 100}}, 'sensors': {'temperature': {'air': {'ispresent': 1, 'state': 1, 'value': 22.2, 'targetvalue': 25.2, 'targetrange': {'min': 20, 'max': 26}, 'current': 12}, 'water': {'ispresent': 1, 'state': 1, 'value': 22.2, 'targetvalue': 25.2, 'targetrange': {'min': 20, 'max': 26}, 'current': 12}}, 'humidity': {'ispresent': 1, 'state': 1, 'value': 22.2, 'targetvalue': 25.2, 'targetrange': {'min': 20, 'max': 26}, 'current': 12}, 'waterlevel': {'ispresent': 1, 'state': 1, 'value': 22.2, 'targetvalue': 25.2, 'targetrange': {'min': 20, 'max': 26}, 'current': 12}}, 'metadata': {'serialnumber': '4522415DF52', 'timestamp': '2021-04-29 12:11:03.911689', 'model': 'beta02', 'timezone': 'GMT+2', 'software_version': '3.0.1'}, 'system': {'log': {'message': 'hello world', 'flag': 1}, 'action': {'message': 'update in 5 days', 'flag': 1}}}\n",
      "<_io.TextIOWrapper name='C:\\\\json\\\\shared_dict.json' mode='r' encoding='cp1252'>\n"
     ]
    }
   ],
   "source": [
    "import os, json\n",
    "import pandas as pd\n",
    "from pymongo import MongoClient\n",
    "\n",
    "# this finds our json files\n",
    "path_to_json = 'C:\\\\json'\n",
    "json_files = [pos_json for pos_json in os.listdir(path_to_json) if pos_json.endswith('.json')]\n",
    "\n",
    "client= MongoClient('localhost',27017)\n",
    "db=client[\"game\"]\n",
    "collection=db[\"myapi_upload\"]\n",
    "\n",
    "# we need both the json and an index number so use enumerate()\n",
    "for index, js in enumerate(json_files):\n",
    "    with open(os.path.join(path_to_json, js)) as json_file:\n",
    "        json_data = json.load(json_file)\n",
    "        print(json_data)\n",
    "        collection.insert_one(json_data)\n",
    "\n",
    "        client.close()\n",
    "print(json_file)\n",
    "\n",
    "for filename in os.listdir(path_to_json):\n",
    "    file_path = os.path.join(path_to_json, filename)\n",
    "    os.remove(file_path)\n"
   ]
  },
  {
   "cell_type": "code",
   "execution_count": 34,
   "metadata": {},
   "outputs": [
    {
     "name": "stdout",
     "output_type": "stream",
     "text": [
      "name 'url' is not defined\n",
      "Sending Data to Server...\n",
      "name 'url' is not defined\n"
     ]
    }
   ],
   "source": [
    "#!/usr/bin/python\n",
    "# IoT Chip project version : 3.0\n",
    "\n",
    "\n",
    "import json,requests\n",
    "import numpy as np\n",
    "\n",
    "\n",
    "\n",
    "def write_2_file(data):\n",
    "    path = \"test.json\"\n",
    "    with open(path, \"w\") as outfile:\n",
    "        json.dump(data, outfile)\n",
    "    print(\"Wrote json to file\", )\n",
    "\n",
    "def app_send_json(data):\n",
    "    apiurl = \"http://127.0.0.1:8000/api/blabla/send\" # decide on server side\n",
    "    API_KEY = \"XXXXXXXXXXXXXXXXX\" # raspberry pi serial number for autentication\n",
    "    data = {\"serialNumber\":API_KEY,\"tino\":42}\n",
    "    headers = {\"Content-Type\": \"application/json; charset=utf-8\"}\n",
    "    jsonObject = json.dumps(data)\n",
    "    try:\n",
    "        print(\"Sending Data to Server...\")\n",
    "        response = requests.post(url, headers=headers, json=jsonObject)\n",
    "        print(\"Status Code\", response.status_code)\n",
    "        print(\"JSON Response \", response.json())\n",
    "    except Exception as e:\n",
    "        print(e)\n",
    "\n",
    "def app_get_json():\n",
    "    apiurl          = \"http://127.0.0.1:8000/api/blabla/get\" # decide on server side\n",
    "    try :\n",
    "        print(\"GET: request from\", url)\n",
    "        req = requests.get(url)\n",
    "        print(\"GET: got json\",\"\\t\" ,req.json())\n",
    "        write_2_file(req.json())\n",
    "    except Exception as e:\n",
    "        print(e)\n",
    "    except:\n",
    "        print(\"Nope\")\n",
    "    return data\n",
    "\n",
    "if __name__=='__main__':\n",
    "    data = {\"test\":42}\n",
    "    app_get_json()\n",
    "    app_send_json(data)\n"
   ]
  },
  {
   "cell_type": "code",
   "execution_count": 35,
   "metadata": {},
   "outputs": [
    {
     "name": "stdout",
     "output_type": "stream",
     "text": [
      "{'actuators': {'led': {'white': {'channel': 10, 'ispresent': 1, 'wavelength': 4500, 'current': -1, 'state': 1, 'value': 75}, 'blue': {'channel': 12, 'ispresent': 1, 'wavelength': 420, 'current': -1, 'state': 1, 'value': 75}, 'green': {'channel': 11, 'ispresent': 1, 'wavelength': 510, 'current': -1, 'state': 1, 'value': 75}, 'red1': {'channel': 13, 'ispresent': 1, 'wavelength': 650, 'current': -1, 'state': 1, 'value': 75}, 'red2': {'channel': 14, 'ispresent': 1, 'wavelength': 650, 'current': -1, 'state': 1, 'value': 75}, 'farred': {'channel': 15, 'ispresent': 1, 'wavelength': 720, 'current': -1, 'state': 1, 'value': 75}}, 'ventilatorfans': {'front': {'channel': 7, 'ispresent': 1, 'current': -1, 'state': 1, 'value': 100, 'period_on': 50, 'period_off': 100}, 'back': {'channel': 8, 'ispresent': 1, 'current': -1, 'state': 1, 'value': 100, 'period_on': 50, 'period_off': 100}, 'led': {'channel': 9, 'ispresent': 1, 'current': -1, 'state': 1, 'value': 100, 'period_on': 50, 'period_off': 100}}, 'airpump': {'channel': -1, 'ispresent': 1, 'current': -1, 'state': 1, 'value': 100, 'period_on': 50, 'period_off': 100}, 'humidifier': {'channel': -1, 'ispresent': 1, 'current': -1, 'state': 1, 'value': 100, 'period_on': 50, 'period_off': 100}, 'peltier': {'channel': -1, 'ispresent': 1, 'current': -1, 'state': 1, 'value': 100, 'period_on': 50, 'period_off': 100}, 'peltierfan': {'channel': -1, 'ispresent': 1, 'current': -1, 'state': 1, 'value': 100, 'period_on': 50, 'period_off': 100}}, 'sensors': {'temperature': {'air': {'ispresent': 1, 'state': 1, 'value': 22.2, 'targetvalue': 25.2, 'targetrange': {'min': 20, 'max': 26}, 'current': 12}, 'water': {'ispresent': 1, 'state': 1, 'value': 22.2, 'targetvalue': 25.2, 'targetrange': {'min': 20, 'max': 26}, 'current': 12}}, 'humidity': {'ispresent': 1, 'state': 1, 'value': 22.2, 'targetvalue': 25.2, 'targetrange': {'min': 20, 'max': 26}, 'current': 12}, 'waterlevel': {'ispresent': 1, 'state': 1, 'value': 22.2, 'targetvalue': 25.2, 'targetrange': {'min': 20, 'max': 26}, 'current': 12}}, 'metadata': {'serialnumber': '4522415DF52', 'timestamp': '2021-04-29 12:11:03.911689', 'model': 'beta02', 'timezone': 'GMT+2', 'software_version': '3.0.1'}, 'system': {'log': {'message': 'hello world', 'flag': 1}, 'action': {'message': 'update in 5 days', 'flag': 1}}}\n"
     ]
    }
   ],
   "source": [
    "    import os, json\n",
    "import pandas as pd\n",
    "    path_to_json = 'C:\\\\JSON'\n",
    "    json_files = [pos_json for pos_json in os.listdir(path_to_json) if pos_json.endswith('.json')]\n",
    "    for index, js in enumerate(json_files):\n",
    "        with open(os.path.join(path_to_json, js)) as json_file:\n",
    "            data = json.load(json_file)\n",
    "            \n",
    "            print(data)"
   ]
  },
  {
   "cell_type": "code",
   "execution_count": 23,
   "metadata": {},
   "outputs": [
    {
     "name": "stdout",
     "output_type": "stream",
     "text": [
      "Database(MongoClient(host=['localhost:27017'], document_class=dict, tz_aware=False, connect=True), 'db_name')\n"
     ]
    }
   ],
   "source": [
    "def get_db_handle(db_name, host, port, username, password):\n",
    "    client = MongoClient(host=host,\n",
    "                      port=int(port),\n",
    "                      username=username,\n",
    "                      password=password\n",
    "                     )\n",
    "    db_handle = client['db_name']\n",
    "    return db_handle, client\n",
    "\n",
    "\n",
    "db,client=get_db_handle('game','localhost',27017,'','')\n",
    "\n",
    "print(A)\n",
    "collection=db[\"test\"]\n"
   ]
  },
  {
   "cell_type": "code",
   "execution_count": 14,
   "metadata": {},
   "outputs": [
    {
     "ename": "ImproperlyConfigured",
     "evalue": "Requested setting INSTALLED_APPS, but settings are not configured. You must either define the environment variable DJANGO_SETTINGS_MODULE or call settings.configure() before accessing settings.",
     "output_type": "error",
     "traceback": [
      "\u001b[1;31m---------------------------------------------------------------------------\u001b[0m",
      "\u001b[1;31mImproperlyConfigured\u001b[0m                      Traceback (most recent call last)",
      "\u001b[1;32m<ipython-input-14-4d0d80435183>\u001b[0m in \u001b[0;36m<module>\u001b[1;34m\u001b[0m\n\u001b[0;32m      5\u001b[0m \u001b[1;32mfrom\u001b[0m \u001b[0mdjongo\u001b[0m \u001b[1;32mimport\u001b[0m \u001b[0mmodels\u001b[0m\u001b[1;33m\u001b[0m\u001b[1;33m\u001b[0m\u001b[0m\n\u001b[0;32m      6\u001b[0m \u001b[1;33m\u001b[0m\u001b[0m\n\u001b[1;32m----> 7\u001b[1;33m \u001b[1;32mfrom\u001b[0m \u001b[0mmodels\u001b[0m \u001b[1;32mimport\u001b[0m \u001b[0mdata\u001b[0m\u001b[1;33m\u001b[0m\u001b[1;33m\u001b[0m\u001b[0m\n\u001b[0m",
      "\u001b[1;32m~\\Documents\\GitHub\\PlantHive_WebApp\\local_home\\models.py\u001b[0m in \u001b[0;36m<module>\u001b[1;34m\u001b[0m\n\u001b[0;32m      1\u001b[0m \u001b[1;32mfrom\u001b[0m \u001b[0mdjongo\u001b[0m \u001b[1;32mimport\u001b[0m \u001b[0mmodels\u001b[0m\u001b[1;33m\u001b[0m\u001b[1;33m\u001b[0m\u001b[0m\n\u001b[0;32m      2\u001b[0m \u001b[1;33m\u001b[0m\u001b[0m\n\u001b[1;32m----> 3\u001b[1;33m \u001b[1;32mclass\u001b[0m \u001b[0mdata\u001b[0m\u001b[1;33m(\u001b[0m\u001b[0mmodels\u001b[0m\u001b[1;33m.\u001b[0m\u001b[0mModel\u001b[0m\u001b[1;33m)\u001b[0m\u001b[1;33m:\u001b[0m\u001b[1;33m\u001b[0m\u001b[1;33m\u001b[0m\u001b[0m\n\u001b[0m\u001b[0;32m      4\u001b[0m     \u001b[0mactuators\u001b[0m\u001b[1;33m=\u001b[0m\u001b[0mmodels\u001b[0m\u001b[1;33m.\u001b[0m\u001b[0mJSONField\u001b[0m\u001b[1;33m(\u001b[0m\u001b[1;33m)\u001b[0m\u001b[1;33m\u001b[0m\u001b[1;33m\u001b[0m\u001b[0m\n\u001b[0;32m      5\u001b[0m     \u001b[0msensors\u001b[0m\u001b[1;33m=\u001b[0m\u001b[0mmodels\u001b[0m\u001b[1;33m.\u001b[0m\u001b[0mJSONField\u001b[0m\u001b[1;33m(\u001b[0m\u001b[1;33m)\u001b[0m\u001b[1;33m\u001b[0m\u001b[1;33m\u001b[0m\u001b[0m\n",
      "\u001b[1;32mC:\\MiniCOnda\\Lib\\site-packages\\django\\db\\models\\base.py\u001b[0m in \u001b[0;36m__new__\u001b[1;34m(cls, name, bases, attrs, **kwargs)\u001b[0m\n\u001b[0;32m    106\u001b[0m \u001b[1;33m\u001b[0m\u001b[0m\n\u001b[0;32m    107\u001b[0m         \u001b[1;31m# Look for an application configuration to attach the model to.\u001b[0m\u001b[1;33m\u001b[0m\u001b[1;33m\u001b[0m\u001b[1;33m\u001b[0m\u001b[0m\n\u001b[1;32m--> 108\u001b[1;33m         \u001b[0mapp_config\u001b[0m \u001b[1;33m=\u001b[0m \u001b[0mapps\u001b[0m\u001b[1;33m.\u001b[0m\u001b[0mget_containing_app_config\u001b[0m\u001b[1;33m(\u001b[0m\u001b[0mmodule\u001b[0m\u001b[1;33m)\u001b[0m\u001b[1;33m\u001b[0m\u001b[1;33m\u001b[0m\u001b[0m\n\u001b[0m\u001b[0;32m    109\u001b[0m \u001b[1;33m\u001b[0m\u001b[0m\n\u001b[0;32m    110\u001b[0m         \u001b[1;32mif\u001b[0m \u001b[0mgetattr\u001b[0m\u001b[1;33m(\u001b[0m\u001b[0mmeta\u001b[0m\u001b[1;33m,\u001b[0m \u001b[1;34m'app_label'\u001b[0m\u001b[1;33m,\u001b[0m \u001b[1;32mNone\u001b[0m\u001b[1;33m)\u001b[0m \u001b[1;32mis\u001b[0m \u001b[1;32mNone\u001b[0m\u001b[1;33m:\u001b[0m\u001b[1;33m\u001b[0m\u001b[1;33m\u001b[0m\u001b[0m\n",
      "\u001b[1;32mC:\\MiniCOnda\\Lib\\site-packages\\django\\apps\\registry.py\u001b[0m in \u001b[0;36mget_containing_app_config\u001b[1;34m(self, object_name)\u001b[0m\n\u001b[0;32m    251\u001b[0m         \u001b[0mReturn\u001b[0m \u001b[1;32mNone\u001b[0m \u001b[1;32mif\u001b[0m \u001b[0mthe\u001b[0m \u001b[0mobject\u001b[0m \u001b[0misn\u001b[0m\u001b[0;31m'\u001b[0m\u001b[0mt\u001b[0m \u001b[1;32min\u001b[0m \u001b[0many\u001b[0m \u001b[0mregistered\u001b[0m \u001b[0mapp\u001b[0m \u001b[0mconfig\u001b[0m\u001b[1;33m.\u001b[0m\u001b[1;33m\u001b[0m\u001b[1;33m\u001b[0m\u001b[0m\n\u001b[0;32m    252\u001b[0m         \"\"\"\n\u001b[1;32m--> 253\u001b[1;33m         \u001b[0mself\u001b[0m\u001b[1;33m.\u001b[0m\u001b[0mcheck_apps_ready\u001b[0m\u001b[1;33m(\u001b[0m\u001b[1;33m)\u001b[0m\u001b[1;33m\u001b[0m\u001b[1;33m\u001b[0m\u001b[0m\n\u001b[0m\u001b[0;32m    254\u001b[0m         \u001b[0mcandidates\u001b[0m \u001b[1;33m=\u001b[0m \u001b[1;33m[\u001b[0m\u001b[1;33m]\u001b[0m\u001b[1;33m\u001b[0m\u001b[1;33m\u001b[0m\u001b[0m\n\u001b[0;32m    255\u001b[0m         \u001b[1;32mfor\u001b[0m \u001b[0mapp_config\u001b[0m \u001b[1;32min\u001b[0m \u001b[0mself\u001b[0m\u001b[1;33m.\u001b[0m\u001b[0mapp_configs\u001b[0m\u001b[1;33m.\u001b[0m\u001b[0mvalues\u001b[0m\u001b[1;33m(\u001b[0m\u001b[1;33m)\u001b[0m\u001b[1;33m:\u001b[0m\u001b[1;33m\u001b[0m\u001b[1;33m\u001b[0m\u001b[0m\n",
      "\u001b[1;32mC:\\MiniCOnda\\Lib\\site-packages\\django\\apps\\registry.py\u001b[0m in \u001b[0;36mcheck_apps_ready\u001b[1;34m(self)\u001b[0m\n\u001b[0;32m    133\u001b[0m             \u001b[1;31m# INSTALLED_APPS raises a more helpful ImproperlyConfigured\u001b[0m\u001b[1;33m\u001b[0m\u001b[1;33m\u001b[0m\u001b[1;33m\u001b[0m\u001b[0m\n\u001b[0;32m    134\u001b[0m             \u001b[1;31m# exception.\u001b[0m\u001b[1;33m\u001b[0m\u001b[1;33m\u001b[0m\u001b[1;33m\u001b[0m\u001b[0m\n\u001b[1;32m--> 135\u001b[1;33m             \u001b[0msettings\u001b[0m\u001b[1;33m.\u001b[0m\u001b[0mINSTALLED_APPS\u001b[0m\u001b[1;33m\u001b[0m\u001b[1;33m\u001b[0m\u001b[0m\n\u001b[0m\u001b[0;32m    136\u001b[0m             \u001b[1;32mraise\u001b[0m \u001b[0mAppRegistryNotReady\u001b[0m\u001b[1;33m(\u001b[0m\u001b[1;34m\"Apps aren't loaded yet.\"\u001b[0m\u001b[1;33m)\u001b[0m\u001b[1;33m\u001b[0m\u001b[1;33m\u001b[0m\u001b[0m\n\u001b[0;32m    137\u001b[0m \u001b[1;33m\u001b[0m\u001b[0m\n",
      "\u001b[1;32mC:\\MiniCOnda\\Lib\\site-packages\\django\\conf\\__init__.py\u001b[0m in \u001b[0;36m__getattr__\u001b[1;34m(self, name)\u001b[0m\n\u001b[0;32m     80\u001b[0m         \u001b[1;34m\"\"\"Return the value of a setting and cache it in self.__dict__.\"\"\"\u001b[0m\u001b[1;33m\u001b[0m\u001b[1;33m\u001b[0m\u001b[0m\n\u001b[0;32m     81\u001b[0m         \u001b[1;32mif\u001b[0m \u001b[0mself\u001b[0m\u001b[1;33m.\u001b[0m\u001b[0m_wrapped\u001b[0m \u001b[1;32mis\u001b[0m \u001b[0mempty\u001b[0m\u001b[1;33m:\u001b[0m\u001b[1;33m\u001b[0m\u001b[1;33m\u001b[0m\u001b[0m\n\u001b[1;32m---> 82\u001b[1;33m             \u001b[0mself\u001b[0m\u001b[1;33m.\u001b[0m\u001b[0m_setup\u001b[0m\u001b[1;33m(\u001b[0m\u001b[0mname\u001b[0m\u001b[1;33m)\u001b[0m\u001b[1;33m\u001b[0m\u001b[1;33m\u001b[0m\u001b[0m\n\u001b[0m\u001b[0;32m     83\u001b[0m         \u001b[0mval\u001b[0m \u001b[1;33m=\u001b[0m \u001b[0mgetattr\u001b[0m\u001b[1;33m(\u001b[0m\u001b[0mself\u001b[0m\u001b[1;33m.\u001b[0m\u001b[0m_wrapped\u001b[0m\u001b[1;33m,\u001b[0m \u001b[0mname\u001b[0m\u001b[1;33m)\u001b[0m\u001b[1;33m\u001b[0m\u001b[1;33m\u001b[0m\u001b[0m\n\u001b[0;32m     84\u001b[0m \u001b[1;33m\u001b[0m\u001b[0m\n",
      "\u001b[1;32mC:\\MiniCOnda\\Lib\\site-packages\\django\\conf\\__init__.py\u001b[0m in \u001b[0;36m_setup\u001b[1;34m(self, name)\u001b[0m\n\u001b[0;32m     61\u001b[0m         \u001b[1;32mif\u001b[0m \u001b[1;32mnot\u001b[0m \u001b[0msettings_module\u001b[0m\u001b[1;33m:\u001b[0m\u001b[1;33m\u001b[0m\u001b[1;33m\u001b[0m\u001b[0m\n\u001b[0;32m     62\u001b[0m             \u001b[0mdesc\u001b[0m \u001b[1;33m=\u001b[0m \u001b[1;33m(\u001b[0m\u001b[1;34m\"setting %s\"\u001b[0m \u001b[1;33m%\u001b[0m \u001b[0mname\u001b[0m\u001b[1;33m)\u001b[0m \u001b[1;32mif\u001b[0m \u001b[0mname\u001b[0m \u001b[1;32melse\u001b[0m \u001b[1;34m\"settings\"\u001b[0m\u001b[1;33m\u001b[0m\u001b[1;33m\u001b[0m\u001b[0m\n\u001b[1;32m---> 63\u001b[1;33m             raise ImproperlyConfigured(\n\u001b[0m\u001b[0;32m     64\u001b[0m                 \u001b[1;34m\"Requested %s, but settings are not configured. \"\u001b[0m\u001b[1;33m\u001b[0m\u001b[1;33m\u001b[0m\u001b[0m\n\u001b[0;32m     65\u001b[0m                 \u001b[1;34m\"You must either define the environment variable %s \"\u001b[0m\u001b[1;33m\u001b[0m\u001b[1;33m\u001b[0m\u001b[0m\n",
      "\u001b[1;31mImproperlyConfigured\u001b[0m: Requested setting INSTALLED_APPS, but settings are not configured. You must either define the environment variable DJANGO_SETTINGS_MODULE or call settings.configure() before accessing settings."
     ]
    }
   ],
   "source": [
    "import os\n",
    "#os.chdir('')\n",
    "#print(os.getcwd(\"C:\\\\Users\\\\Tino Dornbusch\\\\Documents\\\\GitHub\\\\PlantHive_WebApp\"))\n",
    "\n",
    "from djongo import models\n",
    "\n",
    "from models import data\n"
   ]
  },
  {
   "cell_type": "code",
   "execution_count": null,
   "metadata": {},
   "outputs": [],
   "source": []
  }
 ],
 "metadata": {
  "kernelspec": {
   "display_name": "Python 3",
   "language": "python",
   "name": "python3"
  },
  "language_info": {
   "codemirror_mode": {
    "name": "ipython",
    "version": 3
   },
   "file_extension": ".py",
   "mimetype": "text/x-python",
   "name": "python",
   "nbconvert_exporter": "python",
   "pygments_lexer": "ipython3",
   "version": "3.8.11"
  }
 },
 "nbformat": 4,
 "nbformat_minor": 4
}
